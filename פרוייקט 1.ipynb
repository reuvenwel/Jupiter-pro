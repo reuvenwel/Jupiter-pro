{
 "cells": [
  {
   "cell_type": "markdown",
   "id": "a9ee3e8c-f461-4d87-b7fd-7ba09082af99",
   "metadata": {},
   "source": [
    "# project\n",
    "\n",
    "<p style=\"text-align: right;\">מגישים: ראובן ולטפרייד ואלירן לוי</p>"
   ]
  },
  {
   "cell_type": "markdown",
   "id": "061db7f9-efc5-477f-b258-079bff3da066",
   "metadata": {
    "tags": []
   },
   "source": [
    "<p style=\"text-align: right;\">הדאטה שבחרנו עוסקת במודעות דרושים מהשוק האמריקאי, דבר שמשמש על מנת לנתח לנתח את המגמות בשוק העבודה ולזהות את המשרות והכישורים הפופולריים והרווחיים ביותר</p>"
   ]
  },
  {
   "cell_type": "code",
   "execution_count": 1,
   "id": "bb17b724-279c-4c4e-a7da-d1368f10f33d",
   "metadata": {
    "tags": []
   },
   "outputs": [],
   "source": [
    "import pandas as pd\n",
    "import numpy as np\n",
    "import matplotlib.pyplot as plt\n",
    "import seaborn as sns\n",
    "\n",
    "\n"
   ]
  },
  {
   "cell_type": "code",
   "execution_count": 2,
   "id": "0d001ebf-9b0a-4409-8d1e-d537c527ed29",
   "metadata": {
    "tags": []
   },
   "outputs": [
    {
     "data": {
      "text/html": [
       "<div>\n",
       "<style scoped>\n",
       "    .dataframe tbody tr th:only-of-type {\n",
       "        vertical-align: middle;\n",
       "    }\n",
       "\n",
       "    .dataframe tbody tr th {\n",
       "        vertical-align: top;\n",
       "    }\n",
       "\n",
       "    .dataframe thead th {\n",
       "        text-align: right;\n",
       "    }\n",
       "</style>\n",
       "<table border=\"1\" class=\"dataframe\">\n",
       "  <thead>\n",
       "    <tr style=\"text-align: right;\">\n",
       "      <th></th>\n",
       "      <th>ID</th>\n",
       "      <th>Job</th>\n",
       "      <th>Jobs_Group</th>\n",
       "      <th>Profile</th>\n",
       "      <th>Remote</th>\n",
       "      <th>Company</th>\n",
       "      <th>Location</th>\n",
       "      <th>City</th>\n",
       "      <th>State</th>\n",
       "      <th>Salary</th>\n",
       "      <th>Frecuency_Salary</th>\n",
       "      <th>Low_Salary</th>\n",
       "      <th>High_Salary</th>\n",
       "      <th>Mean_Salary</th>\n",
       "      <th>Skills</th>\n",
       "    </tr>\n",
       "  </thead>\n",
       "  <tbody>\n",
       "    <tr>\n",
       "      <th>0</th>\n",
       "      <td>sj_1e37379f40861c74</td>\n",
       "      <td>Business Analyst</td>\n",
       "      <td>Business Analyst</td>\n",
       "      <td>NaN</td>\n",
       "      <td>NaN</td>\n",
       "      <td>CyberCoders</td>\n",
       "      <td>Torrington, CT 06790</td>\n",
       "      <td>Torrington</td>\n",
       "      <td>CT</td>\n",
       "      <td>$80,000 - $110,000 por año</td>\n",
       "      <td>año</td>\n",
       "      <td>80000.0</td>\n",
       "      <td>110000.0</td>\n",
       "      <td>95000.0</td>\n",
       "      <td>[]</td>\n",
       "    </tr>\n",
       "    <tr>\n",
       "      <th>1</th>\n",
       "      <td>sj_a2789bdbc24f4aed</td>\n",
       "      <td>RPA Business Systems Analyst</td>\n",
       "      <td>Business Analyst</td>\n",
       "      <td>NaN</td>\n",
       "      <td>NaN</td>\n",
       "      <td>Amerihealth</td>\n",
       "      <td>Philadelphia, PA 19107 (City Center East area)...</td>\n",
       "      <td>Philadelphia</td>\n",
       "      <td>PA</td>\n",
       "      <td>NaN</td>\n",
       "      <td>NaN</td>\n",
       "      <td>NaN</td>\n",
       "      <td>NaN</td>\n",
       "      <td>NaN</td>\n",
       "      <td>['Office', 'SQL', 'Bachelor']</td>\n",
       "    </tr>\n",
       "    <tr>\n",
       "      <th>2</th>\n",
       "      <td>job_15e7be7c9bf658e3</td>\n",
       "      <td>Quantitive Business Analyst - Strategic Data S...</td>\n",
       "      <td>Business Analyst</td>\n",
       "      <td>NaN</td>\n",
       "      <td>NaN</td>\n",
       "      <td>Apple</td>\n",
       "      <td>Austin, TX+1 location</td>\n",
       "      <td>Austin</td>\n",
       "      <td>TX</td>\n",
       "      <td>NaN</td>\n",
       "      <td>NaN</td>\n",
       "      <td>NaN</td>\n",
       "      <td>NaN</td>\n",
       "      <td>NaN</td>\n",
       "      <td>['Python', 'SQL', 'Bachelor']</td>\n",
       "    </tr>\n",
       "    <tr>\n",
       "      <th>3</th>\n",
       "      <td>job_e8519e1ec2d60a16</td>\n",
       "      <td>Business Line Product Lifecycle Management (PL...</td>\n",
       "      <td>Business Analyst</td>\n",
       "      <td>Junior</td>\n",
       "      <td>NaN</td>\n",
       "      <td>NXP Semiconductors</td>\n",
       "      <td>Austin, TX (West Oak Hill area)</td>\n",
       "      <td>Austin</td>\n",
       "      <td>TX</td>\n",
       "      <td>NaN</td>\n",
       "      <td>NaN</td>\n",
       "      <td>NaN</td>\n",
       "      <td>NaN</td>\n",
       "      <td>NaN</td>\n",
       "      <td>['Bachelor']</td>\n",
       "    </tr>\n",
       "    <tr>\n",
       "      <th>4</th>\n",
       "      <td>job_0545baf6560877d1</td>\n",
       "      <td>Global Markets Operations Asset Services Ops S...</td>\n",
       "      <td>Operations Analyst</td>\n",
       "      <td>Senior</td>\n",
       "      <td>NaN</td>\n",
       "      <td>Bank of America</td>\n",
       "      <td>Jacksonville, FL 32246 (Windy Hill area)+4 loc...</td>\n",
       "      <td>Jacksonville</td>\n",
       "      <td>FL</td>\n",
       "      <td>NaN</td>\n",
       "      <td>NaN</td>\n",
       "      <td>NaN</td>\n",
       "      <td>NaN</td>\n",
       "      <td>NaN</td>\n",
       "      <td>['Excel']</td>\n",
       "    </tr>\n",
       "  </tbody>\n",
       "</table>\n",
       "</div>"
      ],
      "text/plain": [
       "                     ID                                                Job  \\\n",
       "0   sj_1e37379f40861c74                                   Business Analyst   \n",
       "1   sj_a2789bdbc24f4aed                       RPA Business Systems Analyst   \n",
       "2  job_15e7be7c9bf658e3  Quantitive Business Analyst - Strategic Data S...   \n",
       "3  job_e8519e1ec2d60a16  Business Line Product Lifecycle Management (PL...   \n",
       "4  job_0545baf6560877d1  Global Markets Operations Asset Services Ops S...   \n",
       "\n",
       "           Jobs_Group Profile Remote             Company  \\\n",
       "0    Business Analyst     NaN    NaN         CyberCoders   \n",
       "1    Business Analyst     NaN    NaN         Amerihealth   \n",
       "2    Business Analyst     NaN    NaN               Apple   \n",
       "3    Business Analyst  Junior    NaN  NXP Semiconductors   \n",
       "4  Operations Analyst  Senior    NaN     Bank of America   \n",
       "\n",
       "                                            Location          City State  \\\n",
       "0                               Torrington, CT 06790    Torrington    CT   \n",
       "1  Philadelphia, PA 19107 (City Center East area)...  Philadelphia    PA   \n",
       "2                              Austin, TX+1 location        Austin    TX   \n",
       "3                    Austin, TX (West Oak Hill area)        Austin    TX   \n",
       "4  Jacksonville, FL 32246 (Windy Hill area)+4 loc...  Jacksonville    FL   \n",
       "\n",
       "                       Salary Frecuency_Salary  Low_Salary  High_Salary  \\\n",
       "0  $80,000 - $110,000 por año              año     80000.0     110000.0   \n",
       "1                         NaN              NaN         NaN          NaN   \n",
       "2                         NaN              NaN         NaN          NaN   \n",
       "3                         NaN              NaN         NaN          NaN   \n",
       "4                         NaN              NaN         NaN          NaN   \n",
       "\n",
       "   Mean_Salary                         Skills  \n",
       "0      95000.0                             []  \n",
       "1          NaN  ['Office', 'SQL', 'Bachelor']  \n",
       "2          NaN  ['Python', 'SQL', 'Bachelor']  \n",
       "3          NaN                   ['Bachelor']  \n",
       "4          NaN                      ['Excel']  "
      ]
     },
     "execution_count": 2,
     "metadata": {},
     "output_type": "execute_result"
    }
   ],
   "source": [
    "url1 = \"https://raw.githubusercontent.com/Eli39603/Data-jobs-salaries-dataest/main/%D7%A4%D7%A8%D7%95%D7%99%D7%99%D7%A7%D7%98%20%D7%9E%D7%91%D7%95%D7%90%2011.csv\"\n",
    "Jobs_projekt = pd.read_csv(url1, encoding=\"utf-8\")\n",
    "Jobs_projekt.head()"
   ]
  },
  {
   "cell_type": "code",
   "execution_count": 3,
   "id": "a366e23c-14bd-486b-9d02-3fbe470a236c",
   "metadata": {},
   "outputs": [
    {
     "data": {
      "text/plain": [
       "(106999, 15)"
      ]
     },
     "execution_count": 3,
     "metadata": {},
     "output_type": "execute_result"
    }
   ],
   "source": [
    "Jobs_projekt.shape"
   ]
  },
  {
   "cell_type": "code",
   "execution_count": 4,
   "id": "ce5bd1d7-e93c-40eb-a0ba-4b3cd32956ad",
   "metadata": {
    "tags": []
   },
   "outputs": [
    {
     "data": {
      "text/plain": [
       "Index(['ID', 'Job', 'Jobs_Group', 'Profile', 'Remote', 'Company', 'Location',\n",
       "       'City', 'State', 'Salary', 'Frecuency_Salary', 'Low_Salary',\n",
       "       'High_Salary', 'Mean_Salary', 'Skills'],\n",
       "      dtype='object')"
      ]
     },
     "execution_count": 4,
     "metadata": {},
     "output_type": "execute_result"
    }
   ],
   "source": [
    "Jobs_projekt.columns"
   ]
  },
  {
   "cell_type": "markdown",
   "id": "b3d2e780-13a6-48fb-a586-803dbe1c123f",
   "metadata": {
    "tags": []
   },
   "source": [
    "<h2 style=\"text-align: right;\">נבדוק אילו ערכים רלוונטים</h2>\n"
   ]
  },
  {
   "cell_type": "code",
   "execution_count": 5,
   "id": "ad77a829-4fae-482a-9e57-87c4b1758ea9",
   "metadata": {},
   "outputs": [
    {
     "data": {
      "text/plain": [
       "ID                      0\n",
       "Job                     0\n",
       "Jobs_Group              0\n",
       "Profile             67901\n",
       "Remote              65501\n",
       "Company                49\n",
       "Location                0\n",
       "City                11828\n",
       "State                9279\n",
       "Salary              61921\n",
       "Frecuency_Salary    61921\n",
       "Low_Salary          61921\n",
       "High_Salary         61921\n",
       "Mean_Salary         61921\n",
       "Skills                  0\n",
       "dtype: int64"
      ]
     },
     "execution_count": 5,
     "metadata": {},
     "output_type": "execute_result"
    }
   ],
   "source": [
    "Jobs_projekt.isnull().sum()\n",
    "#ערכים חסרים"
   ]
  },
  {
   "cell_type": "markdown",
   "id": "b1ccf89c-29a7-444f-b1d5-317f9a58f78d",
   "metadata": {
    "tags": []
   },
   "source": [
    "<p style=\"text-align: right;\">על פי הנתונים אפשר לראות שבכל המקצועות שמילאו את עמודת השכר מילאו גם את העמודות של השכר הגבוה, הנמוך והממוצע. לכן ניתן  \n",
    "    להסיר את עמודת השכר מכיוון שהנתונים קיימים בעמודות הבאות</p>\n",
    "    <p style=\"text-align: right;\">  ID נסיר גם את עמודת ה</p>\n",
    "  "
   ]
  },
  {
   "cell_type": "code",
   "execution_count": null,
   "id": "fa99f9d7-6394-4f94-99eb-371862849b04",
   "metadata": {},
   "outputs": [],
   "source": []
  },
  {
   "cell_type": "markdown",
   "id": "a991918f-9430-4f14-a562-9e595dc6d48e",
   "metadata": {},
   "source": [
    " <p style=\"text-align: right;\"> נתמקד רק במקצועות בהם מילאו את נתוני השכר</p>\n"
   ]
  },
  {
   "cell_type": "code",
   "execution_count": 7,
   "id": "d9fe53a1-4d38-426c-a077-e41cc2d0046b",
   "metadata": {
    "tags": []
   },
   "outputs": [],
   "source": [
    "Jobs_df = Jobs_projekt.drop([\"Salary\"], axis=1 )\n",
    "Jobs_df = Jobs_projekt.drop([\"ID\"], axis=1 )"
   ]
  },
  {
   "cell_type": "code",
   "execution_count": 9,
   "id": "23d8b129-0cb1-407b-a98b-2b13ae9ad6d4",
   "metadata": {
    "tags": []
   },
   "outputs": [
    {
     "data": {
      "text/plain": [
       "(45078, 14)"
      ]
     },
     "execution_count": 9,
     "metadata": {},
     "output_type": "execute_result"
    }
   ],
   "source": [
    "data_salary_df = Jobs_df.loc[Jobs_df[\"Low_Salary\"] > 1]\n",
    "data_salary_df.shape"
   ]
  },
  {
   "cell_type": "code",
   "execution_count": null,
   "id": "6ffc06ce-f39a-4a6e-a492-6986e989512e",
   "metadata": {},
   "outputs": [],
   "source": []
  }
 ],
 "metadata": {
  "kernelspec": {
   "display_name": "Python 3 (ipykernel)",
   "language": "python",
   "name": "python3"
  },
  "language_info": {
   "codemirror_mode": {
    "name": "ipython",
    "version": 3
   },
   "file_extension": ".py",
   "mimetype": "text/x-python",
   "name": "python",
   "nbconvert_exporter": "python",
   "pygments_lexer": "ipython3",
   "version": "3.11.5"
  }
 },
 "nbformat": 4,
 "nbformat_minor": 5
}
